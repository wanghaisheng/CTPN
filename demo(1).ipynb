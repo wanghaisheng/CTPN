{
 "cells": [
  {
   "cell_type": "code",
   "execution_count": 2,
   "metadata": {},
   "outputs": [],
   "source": [
    "import sys\n",
    "sys.path.append('/opt/ctpn/CTPN/tools/')\n",
    "from cfg import Config as cfg\n",
    "from other import enlarge_boxes, get_output_name, draw_boxes, resize_im, CaffeModel\n",
    "import cv2, os, caffe, sys\n",
    "from detectors import TextProposalDetector, TextDetector\n",
    "import os.path as osp\n",
    "from utils.timer import Timer\n",
    "from IPython.core.display import Image, display\n",
    "from tesseract_ocr import tesseract_ocr \n",
    "\n",
    "\n",
    "DEMO_IMAGE_DIR=\"demo_images/pic_folder\"\n",
    "NET_DEF_FILE=\"models/deploy.prototxt\"\n",
    "MODEL_FILE=\"models/ctpn_trained_model.caffemodel\"\n",
    "\n",
    "caffe.set_mode_cpu()\n",
    "\n",
    "#if len(sys.argv)>1 and sys.argv[1]==\"--no-gpu\":\n",
    "#    caffe.set_mode_cpu()\n",
    "#else:\n",
    "#    caffe.set_mode_gpu()\n",
    "#    caffe.set_device(cfg.TEST_GPU_ID)\n",
    "\n",
    "text_proposals_detector=TextProposalDetector(CaffeModel(NET_DEF_FILE, MODEL_FILE))\n",
    "text_detector=TextDetector(text_proposals_detector)"
   ]
  },
  {
   "cell_type": "code",
   "execution_count": 3,
   "metadata": {},
   "outputs": [
    {
     "name": "stdout",
     "output_type": "stream",
     "text": [
      "rm: cannot remove 'images/*': No such file or directory\r\n"
     ]
    }
   ],
   "source": [
    "!rm images/* && instagram-scraper --location 894641523 -m 25 --media_types image -q -d images"
   ]
  },
  {
   "cell_type": "code",
   "execution_count": null,
   "metadata": {
    "scrolled": false
   },
   "outputs": [
    {
     "name": "stdout",
     "output_type": "stream",
     "text": [
      "demo_images/IMG_20170922_142015.jpg\n",
      "Time: 29.331481\n",
      "[[  64.          382.83969116  447.          452.96044922    0.97270793]\n",
      " [ 192.          168.49615479  351.          229.11680603    0.88479215]\n",
      " [  64.          297.52767944  447.          375.90692139    0.67968184]]\n"
     ]
    }
   ],
   "source": [
    "from glob import glob\n",
    "timer=Timer()\n",
    "for im_name in glob(\"demo_images/*.jpg\"):\n",
    "    print im_name\n",
    "    im_file=osp.join(im_name)\n",
    "    im=cv2.imread(im_file)\n",
    "    timer.tic()\n",
    "    im, f=resize_im(im, cfg.SCALE, cfg.MAX_SCALE)\n",
    "    text_lines,text_proposals,scores=text_detector.detect(im)\n",
    "#    text_lines=enlarge_boxes(text_lines)\n",
    "    print \"Time: %f\"%timer.toc()\n",
    "    print text_lines\n",
    "    im_with_text_lines=draw_boxes(im, text_lines, caption=im_name, is_display=True)\n",
    "    box_count = 0\n",
    "    for box in text_lines:\n",
    "        left, top, right, bottom = box[:4]\n",
    "        img_height, img_width = im.shape[0], im.shape[1]\n",
    "        padding_x = int((right - left) / 4)\n",
    "        width = padding_x * 2 + (right - left)\n",
    "        height = (64 * width / 128)\n",
    "        padding_y = int((height - (bottom - top))/2)\n",
    "        new_left = int(max(0, left - padding_x))\n",
    "        new_right = int(min(img_width - 1, right + padding_x))\n",
    "        new_top = int(max(0, top - padding_y))\n",
    "        new_bottom = int(min(img_height - 1, bottom + padding_y))\n",
    "\n",
    "        crop_img = im[new_top: new_bottom, new_left: new_right]\n",
    "        #crop_img = cv2.cvtColor(crop_img,cv2.COLOR_RGB2GRAY)\n",
    "        crop_img = cv2.resize(crop_img, (300,300))\n",
    "        cv2.imwrite('demo_images/pic_folder/'+im_name+'_box_text_proposals_{}.jpg'.format(box_count),crop_img)\n",
    "        box_count += 1     "
   ]
  },
  {
   "cell_type": "code",
   "execution_count": null,
   "metadata": {},
   "outputs": [],
   "source": []
  },
  {
   "cell_type": "code",
   "execution_count": null,
   "metadata": {},
   "outputs": [],
   "source": []
  }
 ],
 "metadata": {
  "kernelspec": {
   "display_name": "Python 2",
   "language": "python",
   "name": "python2"
  },
  "language_info": {
   "codemirror_mode": {
    "name": "ipython",
    "version": 2
   },
   "file_extension": ".py",
   "mimetype": "text/x-python",
   "name": "python",
   "nbconvert_exporter": "python",
   "pygments_lexer": "ipython2",
   "version": "2.7.6"
  }
 },
 "nbformat": 4,
 "nbformat_minor": 2
}
